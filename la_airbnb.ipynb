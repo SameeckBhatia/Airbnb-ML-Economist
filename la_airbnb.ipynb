{
 "cells": [
  {
   "cell_type": "markdown",
   "id": "e7f9a3a6-1a72-4bfb-bf4c-0d9f18a8a2ec",
   "metadata": {},
   "source": [
    "# Economic Drivers of Airbnb Pricing in Los Angeles: An Examination of Crime, Demographics, and Geography"
   ]
  },
  {
   "cell_type": "markdown",
   "id": "4753ee30",
   "metadata": {},
   "source": [
    "---"
   ]
  },
  {
   "cell_type": "markdown",
   "id": "4a48cc98-a318-419c-a736-450958c13b09",
   "metadata": {},
   "source": [
    "## Libraries"
   ]
  },
  {
   "cell_type": "code",
   "execution_count": 1,
   "id": "48ba2ae5-fbb0-4580-af7f-2815bca13a3c",
   "metadata": {
    "ExecuteTime": {
     "end_time": "2024-05-02T03:29:42.819065Z",
     "start_time": "2024-05-02T03:29:42.794446Z"
    }
   },
   "outputs": [],
   "source": [
    "# Uncomment the line below to install the required packages\n",
    "# !pip -q install pandas numpy matplotlib scipy shapely"
   ]
  },
  {
   "cell_type": "code",
   "execution_count": 2,
   "id": "032c3833-fac3-43ac-9a89-24184bddc874",
   "metadata": {
    "ExecuteTime": {
     "end_time": "2024-05-02T03:29:54.690418Z",
     "start_time": "2024-05-02T03:29:42.824535Z"
    }
   },
   "outputs": [],
   "source": [
    "import pandas as pd\n",
    "import numpy as np\n",
    "import matplotlib.pyplot as plt\n",
    "from shapely.geometry import Point\n",
    "from functions import *"
   ]
  },
  {
   "cell_type": "markdown",
   "id": "a50c87b2",
   "metadata": {},
   "source": [
    "---"
   ]
  },
  {
   "cell_type": "markdown",
   "id": "9724f9e40e9c02d8",
   "metadata": {},
   "source": [
    "## Data Loading and Cleaning"
   ]
  },
  {
   "cell_type": "code",
   "execution_count": 3,
   "id": "a485e10fbde7f472",
   "metadata": {
    "ExecuteTime": {
     "end_time": "2024-05-02T03:29:58.827011Z",
     "start_time": "2024-05-02T03:29:54.694768Z"
    }
   },
   "outputs": [
    {
     "name": "stdout",
     "output_type": "stream",
     "text": [
      "<class 'pandas.core.frame.DataFrame'>\n",
      "Int64Index: 61654 entries, 0 to 42448\n",
      "Data columns (total 19 columns):\n",
      " #   Column                          Non-Null Count  Dtype  \n",
      "---  ------                          --------------  -----  \n",
      " 0   id                              61654 non-null  int64  \n",
      " 1   name                            61654 non-null  object \n",
      " 2   host_id                         61654 non-null  int64  \n",
      " 3   host_name                       61634 non-null  object \n",
      " 4   neighbourhood_group             61654 non-null  object \n",
      " 5   neighbourhood                   61654 non-null  object \n",
      " 6   latitude                        61654 non-null  float64\n",
      " 7   longitude                       61654 non-null  float64\n",
      " 8   room_type                       61654 non-null  object \n",
      " 9   price                           61654 non-null  int64  \n",
      " 10  minimum_nights                  61654 non-null  int64  \n",
      " 11  number_of_reviews               61654 non-null  int64  \n",
      " 12  last_review                     42595 non-null  object \n",
      " 13  reviews_per_month               42595 non-null  float64\n",
      " 14  calculated_host_listings_count  61654 non-null  int64  \n",
      " 15  availability_365                61654 non-null  int64  \n",
      " 16  number_of_reviews_ltm           61654 non-null  int64  \n",
      " 17  license                         15457 non-null  object \n",
      " 18  quarter                         61654 non-null  int64  \n",
      "dtypes: float64(3), int64(9), object(7)\n",
      "memory usage: 9.4+ MB\n"
     ]
    }
   ],
   "source": [
    "base_url = \"http://data.insideairbnb.com/united-states/ca/los-angeles\"\n",
    "df = pd.read_csv(f\"{base_url}/2023-12-03/visualisations/listings.csv\")\n",
    "df = merge_past_data(df)\n",
    "df.info()"
   ]
  },
  {
   "cell_type": "code",
   "execution_count": 4,
   "id": "fd1859d3be25f36f",
   "metadata": {
    "ExecuteTime": {
     "end_time": "2024-05-02T03:29:58.889863Z",
     "start_time": "2024-05-02T03:29:58.834012Z"
    }
   },
   "outputs": [
    {
     "data": {
      "text/plain": [
       "702"
      ]
     },
     "metadata": {},
     "output_type": "display_data"
    }
   ],
   "source": [
    "# Removing price anomalies\n",
    "display(len(df[df.price < 30]))\n",
    "df = df[df.price >= 30]"
   ]
  },
  {
   "cell_type": "code",
   "execution_count": 5,
   "id": "952974802840ffa6",
   "metadata": {
    "ExecuteTime": {
     "end_time": "2024-05-02T03:29:58.921818Z",
     "start_time": "2024-05-02T03:29:58.894597Z"
    }
   },
   "outputs": [],
   "source": [
    "# Dropping columns\n",
    "df.drop([\"id\", \"name\", \"host_id\", \"host_name\", \"last_review\",\n",
    "         \"reviews_per_month\", \"number_of_reviews_ltm\",\n",
    "         \"calculated_host_listings_count\"], axis=1, inplace=True)"
   ]
  },
  {
   "cell_type": "code",
   "execution_count": 6,
   "id": "924d3f0f94b9c90d",
   "metadata": {
    "ExecuteTime": {
     "end_time": "2024-05-02T03:30:01.106503Z",
     "start_time": "2024-05-02T03:29:58.927397Z"
    }
   },
   "outputs": [],
   "source": [
    "# Creating new columns\n",
    "df[\"log_price\"] = np.log(df[\"price\"])\n",
    "df[\"has_reviews\"] = np.where(df[\"number_of_reviews\"] != 0, 1, 0)\n",
    "df[\"has_license\"] = np.where(df[\"license\"].notna(), 1, 0)\n",
    "df[\"is_short_term\"] = np.where(df[\"minimum_nights\"] < 30, 1, 0)\n",
    "df[\"is_hol_hills_w\"] = np.where(df[\"neighbourhood\"] == \"Hollywood Hills West\", 1, 0)\n",
    "\n",
    "# Creating coordinates\n",
    "df[\"coordinates\"] = list(zip(df.longitude, df.latitude))\n",
    "df[\"coordinates\"] = df[\"coordinates\"].apply(Point)\n",
    "\n",
    "# Renaming columns\n",
    "df.rename(columns={\"number_of_reviews\": \"n_reviews\"}, inplace=True)"
   ]
  }
 ],
 "metadata": {
  "kernelspec": {
   "display_name": "Python 3 (ipykernel)",
   "language": "python",
   "name": "python3"
  },
  "language_info": {
   "codemirror_mode": {
    "name": "ipython",
    "version": 3
   },
   "file_extension": ".py",
   "mimetype": "text/x-python",
   "name": "python",
   "nbconvert_exporter": "python",
   "pygments_lexer": "ipython3",
   "version": "3.10.9"
  }
 },
 "nbformat": 4,
 "nbformat_minor": 5
}
