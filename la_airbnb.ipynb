{
 "cells": [
  {
   "cell_type": "markdown",
   "id": "e7f9a3a6-1a72-4bfb-bf4c-0d9f18a8a2ec",
   "metadata": {},
   "source": [
    "# Economic Drivers of Airbnb Pricing in Los Angeles: An Examination of Crime, Demographics, and Geography"
   ]
  },
  {
   "cell_type": "markdown",
   "id": "4a48cc98-a318-419c-a736-450958c13b09",
   "metadata": {},
   "source": [
    "## Libraries"
   ]
  },
  {
   "cell_type": "code",
   "id": "48ba2ae5-fbb0-4580-af7f-2815bca13a3c",
   "metadata": {
    "ExecuteTime": {
     "end_time": "2024-04-28T04:13:54.215807Z",
     "start_time": "2024-04-28T04:13:54.206339Z"
    }
   },
   "source": [
    "# Uncomment the line below to install the required packages\n",
    "# !pip -q install pandas numpy matplotlib scipy"
   ],
   "outputs": [],
   "execution_count": 1
  },
  {
   "cell_type": "code",
   "id": "032c3833-fac3-43ac-9a89-24184bddc874",
   "metadata": {
    "ExecuteTime": {
     "end_time": "2024-04-28T04:13:56.611885Z",
     "start_time": "2024-04-28T04:13:54.220816Z"
    }
   },
   "source": [
    "import pandas as pd\n",
    "import numpy as np\n",
    "import matplotlib.pyplot as plt"
   ],
   "outputs": [],
   "execution_count": 2
  }
 ],
 "metadata": {
  "kernelspec": {
   "display_name": "Python 3 (ipykernel)",
   "language": "python",
   "name": "python3"
  },
  "language_info": {
   "codemirror_mode": {
    "name": "ipython",
    "version": 3
   },
   "file_extension": ".py",
   "mimetype": "text/x-python",
   "name": "python",
   "nbconvert_exporter": "python",
   "pygments_lexer": "ipython3",
   "version": "3.12.0"
  }
 },
 "nbformat": 4,
 "nbformat_minor": 5
}
