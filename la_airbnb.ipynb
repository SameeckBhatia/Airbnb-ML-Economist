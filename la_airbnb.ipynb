{
 "cells": [
  {
   "cell_type": "markdown",
   "id": "e7f9a3a6-1a72-4bfb-bf4c-0d9f18a8a2ec",
   "metadata": {},
   "source": [
    "# Economic Drivers of Airbnb Pricing in Los Angeles: An Examination of Crime, Demographics, and Geography"
   ]
  },
  {
   "cell_type": "markdown",
   "id": "4753ee30",
   "metadata": {},
   "source": [
    "---"
   ]
  },
  {
   "cell_type": "markdown",
   "id": "4a48cc98-a318-419c-a736-450958c13b09",
   "metadata": {},
   "source": [
    "## Libraries"
   ]
  },
  {
   "cell_type": "code",
   "execution_count": 1,
   "id": "48ba2ae5-fbb0-4580-af7f-2815bca13a3c",
   "metadata": {
    "ExecuteTime": {
     "end_time": "2024-05-02T03:29:42.819065Z",
     "start_time": "2024-05-02T03:29:42.794446Z"
    }
   },
   "outputs": [],
   "source": [
    "# Uncomment the line below to install the required packages\n",
    "# !pip -q install pandas numpy matplotlib scipy shapely geopandas"
   ]
  },
  {
   "cell_type": "code",
   "execution_count": 2,
   "id": "032c3833-fac3-43ac-9a89-24184bddc874",
   "metadata": {
    "ExecuteTime": {
     "end_time": "2024-05-02T03:29:54.690418Z",
     "start_time": "2024-05-02T03:29:42.824535Z"
    }
   },
   "outputs": [],
   "source": [
    "import pandas as pd\n",
    "import numpy as np\n",
    "import matplotlib.pyplot as plt\n",
    "import geopandas as gpd\n",
    "from shapely.geometry import Point\n",
    "from functions import *"
   ]
  },
  {
   "cell_type": "markdown",
   "id": "a50c87b2",
   "metadata": {},
   "source": [
    "---"
   ]
  },
  {
   "cell_type": "markdown",
   "id": "9724f9e40e9c02d8",
   "metadata": {},
   "source": [
    "## Data Loading and Cleaning"
   ]
  },
  {
   "cell_type": "code",
   "execution_count": 3,
   "id": "a485e10fbde7f472",
   "metadata": {
    "ExecuteTime": {
     "end_time": "2024-05-02T03:29:58.827011Z",
     "start_time": "2024-05-02T03:29:54.694768Z"
    }
   },
   "outputs": [
    {
     "name": "stdout",
     "output_type": "stream",
     "text": [
      "<class 'pandas.core.frame.DataFrame'>\n",
      "Index: 61654 entries, 0 to 42448\n",
      "Data columns (total 19 columns):\n",
      " #   Column                          Non-Null Count  Dtype  \n",
      "---  ------                          --------------  -----  \n",
      " 0   id                              61654 non-null  int64  \n",
      " 1   name                            61654 non-null  object \n",
      " 2   host_id                         61654 non-null  int64  \n",
      " 3   host_name                       61634 non-null  object \n",
      " 4   neighbourhood_group             61654 non-null  object \n",
      " 5   neighbourhood                   61654 non-null  object \n",
      " 6   latitude                        61654 non-null  float64\n",
      " 7   longitude                       61654 non-null  float64\n",
      " 8   room_type                       61654 non-null  object \n",
      " 9   price                           61654 non-null  int64  \n",
      " 10  minimum_nights                  61654 non-null  int64  \n",
      " 11  number_of_reviews               61654 non-null  int64  \n",
      " 12  last_review                     42595 non-null  object \n",
      " 13  reviews_per_month               42595 non-null  float64\n",
      " 14  calculated_host_listings_count  61654 non-null  int64  \n",
      " 15  availability_365                61654 non-null  int64  \n",
      " 16  number_of_reviews_ltm           61654 non-null  int64  \n",
      " 17  license                         15457 non-null  object \n",
      " 18  quarter                         61654 non-null  int64  \n",
      "dtypes: float64(3), int64(9), object(7)\n",
      "memory usage: 9.4+ MB\n"
     ]
    }
   ],
   "source": [
    "base_url = \"http://data.insideairbnb.com/united-states/ca/los-angeles\"\n",
    "df = pd.read_csv(f\"{base_url}/2023-12-03/visualisations/listings.csv\")\n",
    "df = merge_past_data(df)\n",
    "df.info()"
   ]
  },
  {
   "cell_type": "code",
   "execution_count": 4,
   "id": "fd1859d3be25f36f",
   "metadata": {
    "ExecuteTime": {
     "end_time": "2024-05-02T03:29:58.889863Z",
     "start_time": "2024-05-02T03:29:58.834012Z"
    }
   },
   "outputs": [
    {
     "data": {
      "text/plain": [
       "702"
      ]
     },
     "metadata": {},
     "output_type": "display_data"
    }
   ],
   "source": [
    "# Removing price anomalies\n",
    "display(len(df[df.price < 30]))\n",
    "df = df[df.price >= 30]"
   ]
  },
  {
   "cell_type": "code",
   "execution_count": 5,
   "id": "952974802840ffa6",
   "metadata": {
    "ExecuteTime": {
     "end_time": "2024-05-02T03:29:58.921818Z",
     "start_time": "2024-05-02T03:29:58.894597Z"
    }
   },
   "outputs": [],
   "source": [
    "# Dropping columns\n",
    "df.drop([\"id\", \"name\", \"host_id\", \"host_name\", \"last_review\",\n",
    "         \"reviews_per_month\", \"number_of_reviews_ltm\",\n",
    "         \"calculated_host_listings_count\"], axis=1, inplace=True)"
   ]
  },
  {
   "cell_type": "code",
   "execution_count": 6,
   "id": "924d3f0f94b9c90d",
   "metadata": {
    "ExecuteTime": {
     "end_time": "2024-05-02T03:30:01.106503Z",
     "start_time": "2024-05-02T03:29:58.927397Z"
    }
   },
   "outputs": [],
   "source": [
    "# Creating new columns\n",
    "df[\"log_price\"] = np.log(df[\"price\"])\n",
    "df[\"has_reviews\"] = np.where(df[\"number_of_reviews\"] != 0, 1, 0)\n",
    "df[\"has_license\"] = np.where(df[\"license\"].notna(), 1, 0)\n",
    "df[\"is_short_term\"] = np.where(df[\"minimum_nights\"] < 30, 1, 0)\n",
    "df[\"is_hol_hills_w\"] = np.where(df[\"neighbourhood\"] == \"Hollywood Hills West\", 1, 0)\n",
    "\n",
    "# Creating coordinates\n",
    "df[\"coordinates\"] = list(zip(df.longitude, df.latitude))\n",
    "df[\"coordinates\"] = df[\"coordinates\"].apply(Point)\n",
    "\n",
    "# Renaming columns\n",
    "df.rename(columns={\"number_of_reviews\": \"n_reviews\"}, inplace=True)"
   ]
  },
  {
   "cell_type": "code",
   "execution_count": 7,
   "id": "413ad7f1-9e44-495a-a750-3cb10c14b879",
   "metadata": {},
   "outputs": [],
   "source": [
    "# Creating a new index for each listing\n",
    "np.random.seed(12)\n",
    "new_id = np.random.choice(range(10 ** 4, 10 ** 5), replace=False,\n",
    "                          size=(1, len(df))).tolist()\n",
    "df.set_index(new_id, inplace=True)\n",
    "df.index.rename(\"id\", inplace=True)"
   ]
  },
  {
   "cell_type": "code",
   "execution_count": 8,
   "id": "256555cf-ead8-4adc-8a72-90e9ce5e9cfa",
   "metadata": {},
   "outputs": [],
   "source": [
    "# Creating new data frames\n",
    "cleaned_df = outliers(outliers(df, \"minimum_nights\", True), \"price\", True)\n",
    "cleaned_gdf = gpd.GeoDataFrame(cleaned_df, geometry=\"coordinates\", crs=\"EPSG:4326\")"
   ]
  },
  {
   "cell_type": "markdown",
   "id": "96f7e0ab-0597-421e-a40a-33c2e47e9af8",
   "metadata": {},
   "source": [
    "---"
   ]
  },
  {
   "cell_type": "markdown",
   "id": "8231129d-3b91-414f-8916-6c15eeb7f3ea",
   "metadata": {},
   "source": [
    "## Summary Statistics"
   ]
  },
  {
   "cell_type": "code",
   "execution_count": 9,
   "id": "950a615f-89fc-4793-b11a-af9272f19105",
   "metadata": {},
   "outputs": [],
   "source": [
    "cols = [\"price\", \"n_reviews\", \"minimum_nights\", \"availability_365\"]"
   ]
  },
  {
   "cell_type": "code",
   "execution_count": 10,
   "id": "f63e1e7d-5d1e-4754-89c3-299506345d14",
   "metadata": {},
   "outputs": [
    {
     "data": {
      "text/html": [
       "<div>\n",
       "<style scoped>\n",
       "    .dataframe tbody tr th:only-of-type {\n",
       "        vertical-align: middle;\n",
       "    }\n",
       "\n",
       "    .dataframe tbody tr th {\n",
       "        vertical-align: top;\n",
       "    }\n",
       "\n",
       "    .dataframe thead th {\n",
       "        text-align: right;\n",
       "    }\n",
       "</style>\n",
       "<table border=\"1\" class=\"dataframe\">\n",
       "  <thead>\n",
       "    <tr style=\"text-align: right;\">\n",
       "      <th></th>\n",
       "      <th>price</th>\n",
       "      <th>n_reviews</th>\n",
       "      <th>minimum_nights</th>\n",
       "      <th>availability_365</th>\n",
       "    </tr>\n",
       "  </thead>\n",
       "  <tbody>\n",
       "    <tr>\n",
       "      <th>count</th>\n",
       "      <td>60952.00</td>\n",
       "      <td>60952.00</td>\n",
       "      <td>60952.00</td>\n",
       "      <td>60952.00</td>\n",
       "    </tr>\n",
       "    <tr>\n",
       "      <th>mean</th>\n",
       "      <td>290.05</td>\n",
       "      <td>29.57</td>\n",
       "      <td>17.34</td>\n",
       "      <td>197.98</td>\n",
       "    </tr>\n",
       "    <tr>\n",
       "      <th>std</th>\n",
       "      <td>1099.54</td>\n",
       "      <td>70.07</td>\n",
       "      <td>26.81</td>\n",
       "      <td>141.16</td>\n",
       "    </tr>\n",
       "    <tr>\n",
       "      <th>min</th>\n",
       "      <td>30.00</td>\n",
       "      <td>0.00</td>\n",
       "      <td>1.00</td>\n",
       "      <td>0.00</td>\n",
       "    </tr>\n",
       "    <tr>\n",
       "      <th>25%</th>\n",
       "      <td>90.00</td>\n",
       "      <td>0.00</td>\n",
       "      <td>2.00</td>\n",
       "      <td>62.00</td>\n",
       "    </tr>\n",
       "    <tr>\n",
       "      <th>50%</th>\n",
       "      <td>148.00</td>\n",
       "      <td>4.00</td>\n",
       "      <td>7.00</td>\n",
       "      <td>213.00</td>\n",
       "    </tr>\n",
       "    <tr>\n",
       "      <th>75%</th>\n",
       "      <td>248.00</td>\n",
       "      <td>25.00</td>\n",
       "      <td>30.00</td>\n",
       "      <td>348.00</td>\n",
       "    </tr>\n",
       "    <tr>\n",
       "      <th>max</th>\n",
       "      <td>99999.00</td>\n",
       "      <td>2472.00</td>\n",
       "      <td>1124.00</td>\n",
       "      <td>365.00</td>\n",
       "    </tr>\n",
       "  </tbody>\n",
       "</table>\n",
       "</div>"
      ],
      "text/plain": [
       "          price  n_reviews  minimum_nights  availability_365\n",
       "count  60952.00   60952.00        60952.00          60952.00\n",
       "mean     290.05      29.57           17.34            197.98\n",
       "std     1099.54      70.07           26.81            141.16\n",
       "min       30.00       0.00            1.00              0.00\n",
       "25%       90.00       0.00            2.00             62.00\n",
       "50%      148.00       4.00            7.00            213.00\n",
       "75%      248.00      25.00           30.00            348.00\n",
       "max    99999.00    2472.00         1124.00            365.00"
      ]
     },
     "execution_count": 10,
     "metadata": {},
     "output_type": "execute_result"
    }
   ],
   "source": [
    "# Summary with outliers\n",
    "df[cols].describe().round(2)"
   ]
  },
  {
   "cell_type": "code",
   "execution_count": 11,
   "id": "d5d927e6-027d-4657-ba79-68de73db01eb",
   "metadata": {},
   "outputs": [
    {
     "data": {
      "text/html": [
       "<div>\n",
       "<style scoped>\n",
       "    .dataframe tbody tr th:only-of-type {\n",
       "        vertical-align: middle;\n",
       "    }\n",
       "\n",
       "    .dataframe tbody tr th {\n",
       "        vertical-align: top;\n",
       "    }\n",
       "\n",
       "    .dataframe thead th {\n",
       "        text-align: right;\n",
       "    }\n",
       "</style>\n",
       "<table border=\"1\" class=\"dataframe\">\n",
       "  <thead>\n",
       "    <tr style=\"text-align: right;\">\n",
       "      <th></th>\n",
       "      <th>price</th>\n",
       "      <th>n_reviews</th>\n",
       "      <th>minimum_nights</th>\n",
       "      <th>availability_365</th>\n",
       "    </tr>\n",
       "  </thead>\n",
       "  <tbody>\n",
       "    <tr>\n",
       "      <th>count</th>\n",
       "      <td>59733.00</td>\n",
       "      <td>59733.00</td>\n",
       "      <td>59733.00</td>\n",
       "      <td>59733.00</td>\n",
       "    </tr>\n",
       "    <tr>\n",
       "      <th>mean</th>\n",
       "      <td>225.96</td>\n",
       "      <td>30.04</td>\n",
       "      <td>15.74</td>\n",
       "      <td>197.35</td>\n",
       "    </tr>\n",
       "    <tr>\n",
       "      <th>std</th>\n",
       "      <td>272.26</td>\n",
       "      <td>70.63</td>\n",
       "      <td>14.34</td>\n",
       "      <td>140.99</td>\n",
       "    </tr>\n",
       "    <tr>\n",
       "      <th>min</th>\n",
       "      <td>30.00</td>\n",
       "      <td>0.00</td>\n",
       "      <td>1.00</td>\n",
       "      <td>0.00</td>\n",
       "    </tr>\n",
       "    <tr>\n",
       "      <th>25%</th>\n",
       "      <td>90.00</td>\n",
       "      <td>0.00</td>\n",
       "      <td>2.00</td>\n",
       "      <td>61.00</td>\n",
       "    </tr>\n",
       "    <tr>\n",
       "      <th>50%</th>\n",
       "      <td>145.00</td>\n",
       "      <td>4.00</td>\n",
       "      <td>7.00</td>\n",
       "      <td>210.00</td>\n",
       "    </tr>\n",
       "    <tr>\n",
       "      <th>75%</th>\n",
       "      <td>240.00</td>\n",
       "      <td>25.00</td>\n",
       "      <td>30.00</td>\n",
       "      <td>347.00</td>\n",
       "    </tr>\n",
       "    <tr>\n",
       "      <th>max</th>\n",
       "      <td>2486.00</td>\n",
       "      <td>2472.00</td>\n",
       "      <td>70.00</td>\n",
       "      <td>365.00</td>\n",
       "    </tr>\n",
       "  </tbody>\n",
       "</table>\n",
       "</div>"
      ],
      "text/plain": [
       "          price  n_reviews  minimum_nights  availability_365\n",
       "count  59733.00   59733.00        59733.00          59733.00\n",
       "mean     225.96      30.04           15.74            197.35\n",
       "std      272.26      70.63           14.34            140.99\n",
       "min       30.00       0.00            1.00              0.00\n",
       "25%       90.00       0.00            2.00             61.00\n",
       "50%      145.00       4.00            7.00            210.00\n",
       "75%      240.00      25.00           30.00            347.00\n",
       "max     2486.00    2472.00           70.00            365.00"
      ]
     },
     "execution_count": 11,
     "metadata": {},
     "output_type": "execute_result"
    }
   ],
   "source": [
    "# Summary without outliers\n",
    "cleaned_df[cols].describe().round(2)"
   ]
  },
  {
   "cell_type": "markdown",
   "id": "a36cf37d-a20a-4e35-af73-cdee6b73b093",
   "metadata": {},
   "source": [
    "---"
   ]
  },
  {
   "cell_type": "markdown",
   "id": "3fc96bf1-da36-4d19-8bc2-153b4279f467",
   "metadata": {},
   "source": [
    "## Histograms"
   ]
  },
  {
   "cell_type": "code",
   "execution_count": 12,
   "id": "90cd49a8-c2f5-4065-82db-fe8fa26ec08e",
   "metadata": {},
   "outputs": [],
   "source": [
    "# Setting fill and edge colors of charts\n",
    "fill = \"#6C4B95\"\n",
    "alt_fill = \"#4F954B\"\n",
    "edge = \"black\""
   ]
  },
  {
   "cell_type": "code",
   "execution_count": 13,
   "id": "cebd00e6-2598-48a5-b5de-ba3e7cfe8144",
   "metadata": {},
   "outputs": [
    {
     "data": {
      "image/png": "[encoded data removed]",
      "text/plain": [
       "<Figure size 500x400 with 1 Axes>"
      ]
     },
     "metadata": {},
     "output_type": "display_data"
    }
   ],
   "source": [
    "# Plotting\n",
    "fig, ax = plt.subplots(figsize=(5, 4))\n",
    "ax.hist(cleaned_df[\"price\"], bins=bin_interval(0, 2500, 100),\n",
    "        edgecolor=edge, color=fill)\n",
    "\n",
    "# Formatting\n",
    "ax.set_xticks(bin_interval(0, 2500, 500))\n",
    "ax.set_title(\"Distribution of Price\")\n",
    "ax.set_xlabel(\"Price ($)\")\n",
    "ax.set_ylabel(\"Count\")\n",
    "\n",
    "plt.show()"
   ]
  },
  {
   "cell_type": "code",
   "execution_count": 14,
   "id": "23c335a2-4c02-4d81-978e-d8c1f971eddc",
   "metadata": {},
   "outputs": [
    {
     "data": {
      "image/png": "[encoded data removed]",
      "text/plain": [
       "<Figure size 500x400 with 1 Axes>"
      ]
     },
     "metadata": {},
     "output_type": "display_data"
    }
   ],
   "source": [
    "# Plotting\n",
    "fig, ax = plt.subplots(figsize=(5, 4))\n",
    "ax.hist(cleaned_df[\"n_reviews\"], bins=bin_interval(0, 200, 10),\n",
    "        edgecolor=edge, color=fill)\n",
    "\n",
    "# Formatting\n",
    "ax.set_xticks(bin_interval(0, 200, 20))\n",
    "ax.set_title(\"Distribution of Number of Reviews\")\n",
    "ax.set_xlabel(\"Number of Reviews\")\n",
    "ax.set_ylabel(\"Count\")\n",
    "\n",
    "plt.show()"
   ]
  },
  {
   "cell_type": "code",
   "execution_count": 15,
   "id": "42d91f88-9423-4acc-b2b9-535720313613",
   "metadata": {},
   "outputs": [
    {
     "data": {
      "image/png": "[encoded data removed]",
      "text/plain": [
       "<Figure size 500x400 with 1 Axes>"
      ]
     },
     "metadata": {},
     "output_type": "display_data"
    }
   ],
   "source": [
    "# Plotting\n",
    "fig, ax = plt.subplots(figsize=(5, 4))\n",
    "ax.hist(cleaned_df[\"minimum_nights\"], bins=bin_interval(0, 70, 10),\n",
    "        edgecolor=edge, color=fill)\n",
    "\n",
    "# Formatting\n",
    "ax.set_xticks(bin_interval(0, 70, 10))\n",
    "ax.set_title(\"Distribution of Minimum Nights\")\n",
    "ax.set_xlabel(\"Minimum Nights\")\n",
    "ax.set_ylabel(\"Count\")\n",
    "\n",
    "plt.show()"
   ]
  },
  {
   "cell_type": "code",
   "execution_count": 16,
   "id": "fec8d52b-bb68-4aaa-8f0e-7501cb77c0ed",
   "metadata": {},
   "outputs": [
    {
     "data": {
      "image/png": "[encoded data removed]",
      "text/plain": [
       "<Figure size 500x400 with 1 Axes>"
      ]
     },
     "metadata": {},
     "output_type": "display_data"
    }
   ],
   "source": [
    "# Plotting\n",
    "fig, ax = plt.subplots(figsize=(5, 4))\n",
    "ax.hist(cleaned_df[\"availability_365\"], bins=bin_interval(0, 365, 30),\n",
    "        edgecolor=edge, color=fill)\n",
    "\n",
    "# Formatting\n",
    "ax.set_xticks(bin_interval(0, 360, 90))\n",
    "ax.set_title(\"Distribution of Availability 365\")\n",
    "ax.set_xlabel(\"Available Days\")\n",
    "ax.set_ylabel(\"Count\")\n",
    "\n",
    "plt.show()"
   ]
  }
 ],
 "metadata": {
  "kernelspec": {
   "display_name": "Python 3 (ipykernel)",
   "language": "python",
   "name": "python3"
  },
  "language_info": {
   "codemirror_mode": {
    "name": "ipython",
    "version": 3
   },
   "file_extension": ".py",
   "mimetype": "text/x-python",
   "name": "python",
   "nbconvert_exporter": "python",
   "pygments_lexer": "ipython3",
   "version": "3.12.0"
  }
 },
 "nbformat": 4,
 "nbformat_minor": 5
}
