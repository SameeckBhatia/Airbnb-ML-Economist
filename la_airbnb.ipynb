{
 "cells": [
  {
   "cell_type": "markdown",
   "id": "e7f9a3a6-1a72-4bfb-bf4c-0d9f18a8a2ec",
   "metadata": {},
   "source": [
    "# Economic Drivers of Airbnb Pricing in Los Angeles: An Examination of Crime, Demographics, and Geography"
   ]
  },
  {
   "cell_type": "markdown",
   "id": "4a48cc98-a318-419c-a736-450958c13b09",
   "metadata": {},
   "source": [
    "## Libraries"
   ]
  },
  {
   "cell_type": "code",
   "id": "48ba2ae5-fbb0-4580-af7f-2815bca13a3c",
   "metadata": {
    "ExecuteTime": {
     "end_time": "2024-05-01T03:23:34.450406Z",
     "start_time": "2024-05-01T03:23:34.424606Z"
    }
   },
   "source": [
    "# Uncomment the line below to install the required packages\n",
    "# !pip -q install pandas numpy matplotlib scipy"
   ],
   "outputs": [],
   "execution_count": 1
  },
  {
   "cell_type": "code",
   "id": "032c3833-fac3-43ac-9a89-24184bddc874",
   "metadata": {
    "ExecuteTime": {
     "end_time": "2024-05-01T03:23:36.933382Z",
     "start_time": "2024-05-01T03:23:34.454408Z"
    }
   },
   "source": [
    "import pandas as pd\n",
    "import numpy as np\n",
    "import matplotlib.pyplot as plt\n",
    "from functions import *"
   ],
   "outputs": [],
   "execution_count": 2
  },
  {
   "metadata": {},
   "cell_type": "markdown",
   "source": "## Data Loading and Cleaning",
   "id": "9724f9e40e9c02d8"
  },
  {
   "metadata": {
    "ExecuteTime": {
     "end_time": "2024-05-01T03:23:41.665665Z",
     "start_time": "2024-05-01T03:23:36.937366Z"
    }
   },
   "cell_type": "code",
   "source": [
    "base_url = \"http://data.insideairbnb.com/united-states/ca/los-angeles\"\n",
    "df = pd.read_csv(f\"{base_url}/2023-12-03/visualisations/listings.csv\")\n",
    "df = merge_past_data(df)\n",
    "df.info()"
   ],
   "id": "a485e10fbde7f472",
   "outputs": [
    {
     "name": "stdout",
     "output_type": "stream",
     "text": [
      "<class 'pandas.core.frame.DataFrame'>\n",
      "Int64Index: 61654 entries, 0 to 42448\n",
      "Data columns (total 19 columns):\n",
      " #   Column                          Non-Null Count  Dtype  \n",
      "---  ------                          --------------  -----  \n",
      " 0   id                              61654 non-null  int64  \n",
      " 1   name                            61654 non-null  object \n",
      " 2   host_id                         61654 non-null  int64  \n",
      " 3   host_name                       61634 non-null  object \n",
      " 4   neighbourhood_group             61654 non-null  object \n",
      " 5   neighbourhood                   61654 non-null  object \n",
      " 6   latitude                        61654 non-null  float64\n",
      " 7   longitude                       61654 non-null  float64\n",
      " 8   room_type                       61654 non-null  object \n",
      " 9   price                           61654 non-null  int64  \n",
      " 10  minimum_nights                  61654 non-null  int64  \n",
      " 11  number_of_reviews               61654 non-null  int64  \n",
      " 12  last_review                     42595 non-null  object \n",
      " 13  reviews_per_month               42595 non-null  float64\n",
      " 14  calculated_host_listings_count  61654 non-null  int64  \n",
      " 15  availability_365                61654 non-null  int64  \n",
      " 16  number_of_reviews_ltm           61654 non-null  int64  \n",
      " 17  license                         15457 non-null  object \n",
      " 18  quarter                         61654 non-null  int64  \n",
      "dtypes: float64(3), int64(9), object(7)\n",
      "memory usage: 9.4+ MB\n"
     ]
    }
   ],
   "execution_count": 3
  },
  {
   "metadata": {
    "ExecuteTime": {
     "end_time": "2024-05-01T03:23:41.728304Z",
     "start_time": "2024-05-01T03:23:41.670791Z"
    }
   },
   "cell_type": "code",
   "source": [
    "# Removing price anomalies\n",
    "display(len(df[df.price < 30]))\n",
    "df = df[df.price >= 30]"
   ],
   "id": "fd1859d3be25f36f",
   "outputs": [
    {
     "data": {
      "text/plain": [
       "702"
      ]
     },
     "metadata": {},
     "output_type": "display_data"
    }
   ],
   "execution_count": 4
  },
  {
   "metadata": {
    "ExecuteTime": {
     "end_time": "2024-05-01T03:23:41.760310Z",
     "start_time": "2024-05-01T03:23:41.732306Z"
    }
   },
   "cell_type": "code",
   "source": [
    "# Dropping columns\n",
    "df.drop([\"id\", \"name\", \"host_id\", \"host_name\", \"last_review\",\n",
    "         \"reviews_per_month\", \"number_of_reviews_ltm\",\n",
    "         \"calculated_host_listings_count\"], axis=1, inplace=True)"
   ],
   "id": "952974802840ffa6",
   "outputs": [],
   "execution_count": 5
  }
 ],
 "metadata": {
  "kernelspec": {
   "display_name": "Python 3 (ipykernel)",
   "language": "python",
   "name": "python3"
  },
  "language_info": {
   "codemirror_mode": {
    "name": "ipython",
    "version": 3
   },
   "file_extension": ".py",
   "mimetype": "text/x-python",
   "name": "python",
   "nbconvert_exporter": "python",
   "pygments_lexer": "ipython3",
   "version": "3.12.0"
  }
 },
 "nbformat": 4,
 "nbformat_minor": 5
}
